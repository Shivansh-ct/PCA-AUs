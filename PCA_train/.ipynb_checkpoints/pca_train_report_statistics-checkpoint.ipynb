{
 "cells": [
  {
   "cell_type": "code",
   "execution_count": 2,
   "id": "398a6979",
   "metadata": {},
   "outputs": [],
   "source": [
    "import pandas as pd\n",
    "import numpy as np\n",
    "import scipy.stats as stats"
   ]
  },
  {
   "cell_type": "code",
   "execution_count": 3,
   "id": "38ad9b81",
   "metadata": {},
   "outputs": [],
   "source": [
    "var_df = pd.read_csv(\"Results/Performance_at_95_TrainVE_30folds.csv\", index_col=0)"
   ]
  },
  {
   "cell_type": "markdown",
   "id": "21f652f8",
   "metadata": {},
   "source": [
    "### Paired t-test for DISFA_train and BP4D_train performance on CK+"
   ]
  },
  {
   "cell_type": "code",
   "execution_count": 4,
   "id": "65e805fe",
   "metadata": {},
   "outputs": [
    {
     "name": "stdout",
     "output_type": "stream",
     "text": [
      "94.85207265242205 92.89766885082281\n",
      "T-Statistic: 13.723013546642548\n",
      "P-Value: 3.624833411083258e-20\n"
     ]
    }
   ],
   "source": [
    "R1 = var_df[(var_df[\"train_data\"]==\"DISFA_train\") & (var_df[\"test_data\"]==\"CK+\")]['test var']\n",
    "R2 = np.array(R1)\n",
    "\n",
    "R2 = var_df[(var_df[\"train_data\"]==\"BP4D_train\") & (var_df[\"test_data\"]==\"CK+\")]['test var']\n",
    "R2 = np.array(R2)\n",
    "\n",
    "print(np.mean(R1), np.mean(R2))\n",
    "\n",
    "t_statistic, p_value = stats.ttest_ind(R1, R2, alternative='greater')\n",
    "print(\"T-Statistic:\", t_statistic)\n",
    "print(\"P-Value:\", p_value)"
   ]
  },
  {
   "cell_type": "markdown",
   "id": "658087c1",
   "metadata": {},
   "source": [
    "### Paired t-test for DISFA_train and CK+ performance on BP4D_full"
   ]
  },
  {
   "cell_type": "code",
   "execution_count": 5,
   "id": "920d8fc2",
   "metadata": {},
   "outputs": [
    {
     "name": "stdout",
     "output_type": "stream",
     "text": [
      "90.75920198540051 88.0783437418441\n",
      "T-Statistic: 70.99357979734337\n",
      "P-Value: 2.209652290909212e-58\n"
     ]
    }
   ],
   "source": [
    "R1 = var_df[(var_df[\"train_data\"]==\"DISFA_train\") & (var_df[\"test_data\"]==\"BP4D_full\")]['test var']\n",
    "R2 = np.array(R1)\n",
    "\n",
    "R2 = var_df[(var_df[\"train_data\"]==\"CK+\") & (var_df[\"test_data\"]==\"BP4D_full\")]['test var']\n",
    "R2 = np.array(R2)\n",
    "\n",
    "print(np.mean(R1), np.mean(R2))\n",
    "t_statistic, p_value = stats.ttest_ind(R1, R2, alternative='greater')\n",
    "print(\"T-Statistic:\", t_statistic)\n",
    "print(\"P-Value:\", p_value)"
   ]
  },
  {
   "cell_type": "markdown",
   "id": "a548e86c",
   "metadata": {},
   "source": [
    "### Paired t-test for BP4D_train and CK+ performance on DISFA_full"
   ]
  },
  {
   "cell_type": "code",
   "execution_count": 6,
   "id": "f6f7a64b",
   "metadata": {},
   "outputs": [
    {
     "name": "stdout",
     "output_type": "stream",
     "text": [
      "88.7157020314154 90.05684354435706\n",
      "T-Statistic: -24.285496193881436\n",
      "P-Value: 2.2125520509876112e-32\n"
     ]
    }
   ],
   "source": [
    "R1 = var_df[(var_df[\"train_data\"]==\"BP4D_train\") & (var_df[\"test_data\"]==\"DISFA_full\")]['test var']\n",
    "R2 = np.array(R1)\n",
    "\n",
    "R2 = var_df[(var_df[\"train_data\"]==\"CK+\") & (var_df[\"test_data\"]==\"DISFA_full\")]['test var']\n",
    "R2 = np.array(R2)\n",
    "\n",
    "print(np.mean(R1), np.mean(R2))\n",
    "t_statistic, p_value = stats.ttest_ind(R1, R2, alternative='less')\n",
    "print(\"T-Statistic:\", t_statistic)\n",
    "print(\"P-Value:\", p_value)"
   ]
  }
 ],
 "metadata": {
  "kernelspec": {
   "display_name": "Python 3 (ipykernel)",
   "language": "python",
   "name": "python3"
  },
  "language_info": {
   "codemirror_mode": {
    "name": "ipython",
    "version": 3
   },
   "file_extension": ".py",
   "mimetype": "text/x-python",
   "name": "python",
   "nbconvert_exporter": "python",
   "pygments_lexer": "ipython3",
   "version": "3.7.5"
  }
 },
 "nbformat": 4,
 "nbformat_minor": 5
}
